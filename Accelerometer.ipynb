{
 "cells": [
  {
   "cell_type": "code",
   "execution_count": 64,
   "metadata": {},
   "outputs": [
    {
     "name": "stdout",
     "output_type": "stream",
     "text": [
      "Requirement already satisfied: counter in c:\\users\\aejaz\\anaconda3\\lib\\site-packages (1.0.0)\n",
      "1583055213400\n"
     ]
    }
   ],
   "source": [
    "!pip install counter\n",
    "import numpy as np\n",
    "import scipy.stats\n",
    "import pandas as pd\n",
    "import statistics\n",
    "import matplotlib.pyplot as plt\n",
    "import collections as coll\n",
    "import math\n",
    "\n",
    "\n",
    "df = pd.read_csv('combined_accel_01032020_10.csv')\n",
    "print(df['timestamp'][0])\n",
    "\n",
    "\n",
    "\n",
    "\n",
    "\n",
    "\n",
    "\n",
    " \n",
    "\n",
    "\n",
    "\n",
    "\n",
    "\n",
    "\n",
    "\n",
    "\n",
    "\n",
    "\n",
    "\n",
    "\n",
    "\n",
    "\n"
   ]
  },
  {
   "cell_type": "code",
   "execution_count": 65,
   "metadata": {},
   "outputs": [
    {
     "name": "stdout",
     "output_type": "stream",
     "text": [
      "1583055213400\n",
      "<class 'pandas.core.frame.DataFrame'>\n"
     ]
    }
   ],
   "source": [
    "df = df.sort_values(by='timestamp')\n"
   ]
  },
  {
   "cell_type": "code",
   "execution_count": 66,
   "metadata": {},
   "outputs": [
    {
     "name": "stdout",
     "output_type": "stream",
     "text": [
      "1583055213400\n"
     ]
    }
   ],
   "source": [
    "df = df.drop_duplicates(subset =\"timestamp\")\n"
   ]
  },
  {
   "cell_type": "code",
   "execution_count": 104,
   "metadata": {},
   "outputs": [
    {
     "name": "stdout",
     "output_type": "stream",
     "text": [
      "         index      timestamp  accuracy         x         y          z  \\\n",
      "0            0  1583055213400         3  1.547183 -0.263119  -9.609081   \n",
      "1            1  1583055213481         3  1.542035 -0.272696  -9.611715   \n",
      "2            2  1583055213673         3  1.548260 -0.265513  -9.610997   \n",
      "3            3  1583055213865         3  1.540838 -0.274132  -9.613989   \n",
      "4            4  1583055214060         3  1.544908 -0.270421  -9.608005   \n",
      "...        ...            ...       ...       ...       ...        ...   \n",
      "870321  870321  1583109217264         3 -4.217807 -0.310642  10.707001   \n",
      "870322  870322  1583109217284         3 -4.143590  0.153813  10.623207   \n",
      "870323  870323  1583109217304         3 -3.595342  0.254365   9.822382   \n",
      "870324  870324  1583109217323         3 -3.114128  0.697273   8.992826   \n",
      "870325  870325  1583109217342         3 -2.715510  1.171305   8.759401   \n",
      "\n",
      "        difference  result  outcome  \n",
      "0               81       1      gap  \n",
      "1              192       1      gap  \n",
      "2              192       1      gap  \n",
      "3              195       1      gap  \n",
      "4              193       1      gap  \n",
      "...            ...     ...      ...  \n",
      "870321          20       1  correct  \n",
      "870322          20       1  correct  \n",
      "870323          19       1  correct  \n",
      "870324           0       1  correct  \n",
      "870325           0       1  correct  \n",
      "\n",
      "[870326 rows x 9 columns]\n",
      "870326\n",
      "870326\n",
      "Counter({19: 190726, 20: 155037, 18: 54289, 48: 37036, 21: 36990, 49: 35721, 194: 27644, 193: 18501, 47: 17521, 50: 17108, 1: 13847, 17: 13223, 195: 12753, 22: 9637, 46: 8474, 51: 8347, 192: 7752, 196: 6713, 52: 5795, 53: 5693, 45: 5572, 197: 5311, 191: 5266, 44: 5178, 198: 5109, 54: 4988, 190: 4960, 43: 4678, 16: 4224, 189: 4213, 199: 3912, 42: 3790, 10: 3722, 55: 3714, 36: 3292, 23: 3243, 37: 3099, 35: 3092, 61: 3053, 200: 2952, 56: 2947, 60: 2943, 41: 2890, 9: 2855, 188: 2829, 62: 2675, 59: 2669, 38: 2662, 34: 2637, 201: 2495, 57: 2492, 58: 2373, 39: 2346, 15: 2341, 40: 2291, 33: 2268, 63: 2209, 187: 2132, 202: 2085, 203: 2059, 29: 2044, 32: 2028, 186: 2021, 185: 1985, 184: 1958, 24: 1926, 64: 1829, 14: 1795, 31: 1754, 30: 1726, 25: 1705, 204: 1702, 65: 1601, 183: 1543, 182: 1414, 11: 1407, 205: 1354, 181: 1351, 66: 1220, 28: 1200, 13: 1167, 26: 1148, 180: 1142, 206: 1073, 207: 1004, 27: 939, 8: 926, 12: 909, 2: 882, 208: 743, 3: 650, 179: 648, 67: 625, 7: 561, 209: 436, 6: 433, 4: 364, 5: 359, 178: 324, 68: 280, 210: 202, 69: 117, 177: 102, 70: 98, 211: 88, 71: 80, 77: 73, 176: 70, 74: 70, 80: 69, 75: 68, 81: 67, 72: 66, 73: 66, 85: 62, 78: 61, 82: 58, 84: 58, 79: 57, 175: 55, 83: 55, 76: 52, 212: 51, 92: 48, 87: 48, 91: 47, 86: 45, 89: 44, 88: 43, 90: 42, 213: 41, 174: 39, 93: 39, 171: 38, 99: 36, 95: 34, 98: 32, 167: 31, 96: 31, 168: 31, 94: 29, 100: 29, 170: 28, 216: 27, 154: 26, 214: 26, 173: 25, 165: 25, 166: 24, 157: 24, 169: 23, 217: 23, 101: 22, 218: 21, 102: 21, 172: 20, 215: 20, 104: 20, 156: 19, 164: 19, 106: 19, 97: 19, 148: 19, 151: 18, 107: 18, 161: 18, 162: 18, 160: 17, 109: 17, 126: 17, 108: 17, 118: 17, 159: 17, 220: 16, 125: 16, 112: 16, 105: 16, 238: 15, 229: 15, 155: 15, 114: 15, 127: 15, 150: 15, 137: 14, 111: 14, 103: 14, 124: 14, 110: 14, 163: 13, 222: 13, 231: 13, 153: 13, 133: 13, 158: 13, 122: 13, 219: 13, 227: 13, 223: 12, 136: 12, 144: 12, 145: 12, 132: 11, 221: 11, 234: 11, 128: 11, 121: 11, 235: 11, 149: 10, 138: 10, 146: 10, 236: 10, 115: 10, 141: 10, 135: 9, 239: 9, 230: 9, 147: 9, 225: 9, 120: 9, 123: 9, 117: 9, 116: 9, 559: 9, 226: 9, 251: 8, 545: 8, 119: 7, 224: 7, 129: 7, 240: 7, 142: 7, 233: 7, 130: 7, 113: 7, 134: 7, 552: 7, 538: 7, 139: 7, 588: 7, 232: 7, 246: 7, 143: 6, 243: 6, 553: 6, 152: 6, 561: 6, 547: 6, 140: 6, 580: 6, 131: 6, 534: 6, 582: 6, 242: 6, 228: 6, 244: 5, 292: 5, 576: 5, 532: 5, 573: 5, 575: 5, 551: 5, 537: 5, 529: 5, 262: 5, 245: 5, 237: 5, 252: 4, 563: 4, 565: 4, 548: 4, 541: 4, 612: 4, 569: 4, 647: 4, 583: 4, 605: 4, 544: 4, 725: 4, 689: 4, 514: 4, 510: 4, 530: 4, 678: 4, 249: 4, 630: 4, 241: 4, 622: 4, 343: 3, 259: 3, 263: 3, 250: 3, 254: 3, 999: 3, 969: 3, 562: 3, 554: 3, 2844: 3, 1230: 3, 3967: 3, 2753: 3, 679: 3, 536: 3, 10075: 3, 619: 3, 523: 3, 956: 3, 618: 3, 587: 3, 1049: 3, 539: 3, 578: 3, 602: 3, 1524: 3, 1724: 3, 3361: 3, 525: 3, 1530: 3, 571: 3, 555: 3, 888: 3, 771: 3, 568: 3, 925: 3, 542: 3, 540: 3, 672: 3, 953: 3, 613: 3, 918: 3, 617: 3, 258: 3, 720: 3, 659: 3, 253: 2, 265: 2, 290: 2, 267: 2, 298: 2, 10292: 2, 357: 2, 10282: 2, 10270: 2, 10268: 2, 286: 2, 321: 2, 279: 2, 436: 2, 300: 2, 10078: 2, 1032: 2, 597: 2, 1678: 2, 2364: 2, 1033: 2, 557: 2, 687: 2, 2130: 2, 520: 2, 519: 2, 639: 2, 533: 2, 507: 2, 10074: 2, 3397: 2, 526: 2, 1413: 2, 2494: 2, 1889: 2, 493: 2, 2694: 2, 770: 2, 586: 2, 629: 2, 4106: 2, 715: 2, 1443: 2, 3365: 2, 877: 2, 627: 2, 2811: 2, 2154: 2, 2517: 2, 2903: 2, 734: 2, 3275: 2, 1264: 2, 2108: 2, 579: 2, 564: 2, 2442: 2, 1137: 2, 2447: 2, 1010: 2, 1680: 2, 676: 2, 255: 2, 635: 2, 2125: 2, 781: 2, 868: 2, 3198: 2, 3367: 2, 794: 2, 2774: 2, 1040: 2, 835: 2, 1653: 2, 819: 2, 513: 2, 5058: 2, 9079: 2, 1612: 2, 10072: 2, 950: 2, 2376: 2, 2418: 2, 1079: 2, 10073: 2, 675: 2, 2313: 2, 6406: 2, 549: 2, 768: 2, 600: 2, 1069: 2, 901: 2, 1074: 2, 593: 2, 1210: 2, 517: 2, 4394: 2, 1959: 2, 1558: 2, 938: 2, 10044: 2, 3174: 2, 3375: 2, 3317: 2, 693: 2, 628: 2, 662: 2, 2722: 2, 601: 2, 748: 2, 743: 2, 2004: 2, 10034: 2, 556: 2, 3021: 2, 531: 2, 778: 2, 704: 2, 2444: 2, 5273: 2, 596: 2, 874: 2, 620: 2, 952: 2, 572: 2, 567: 2, 3588: 2, 1712: 2, 936: 2, 10046: 2, 664: 2, 711: 2, 595: 2, 1426: 2, 10203: 2, 707: 2, 724: 2, 700: 2, 928: 2, 606: 2, 3708: 2, 581: 2, 10367: 2, 626: 2, 614: 2, 713: 2, 903: 2, 266: 2, 550: 2, 878: 2, 616: 2, 284: 2, 777: 2, 566: 2, 3330: 2, 293: 2, 6692: 2, 855: 2, 660: 2, 347: 2, 9921: 2, 527: 2, 712: 2, 5064: 2, 740: 2, 1086: 2, 3901: 2, 275: 2, 2931: 2, 543: 2, 802: 2, 698: 2, 615: 2, 632: 2, 621: 2, 665: 2, 273: 2, 642: 2, 0: 2, 10244: 1, 10251: 1, 10259: 1, 10279: 1, 10262: 1, 308: 1, 10255: 1, 314: 1, 10269: 1, 340: 1, 334: 1, 10333: 1, 295: 1, 10299: 1, 333: 1, 380: 1, 10288: 1, 315: 1, 10309: 1, 322: 1, 350: 1, 10263: 1, 10233: 1, 10265: 1, 257: 1, 10289: 1, 10271: 1, 10296: 1, 268: 1, 289: 1, 445: 1, 496: 1, 668: 1, 389: 1, 456: 1, 752: 1, 316: 1, 312: 1, 474: 1, 459: 1, 450: 1, 395: 1, 10057: 1, 10062: 1, 10040: 1, 4698: 1, 2770: 1, 1895: 1, 5850: 1, 5337: 1, 5506: 1, 1290: 1, 3926: 1, 5390: 1, 5657: 1, 7857: 1, 4212: 1, 4720: 1, 10077: 1, 4173: 1, 2295: 1, 4021: 1, 2531: 1, 2197: 1, 4443: 1, 8050: 1, 7190: 1, 4778: 1, 1226: 1, 2830: 1, 2839: 1, 1873: 1, 2881: 1, 1519: 1, 2616: 1, 3996: 1, 3567: 1, 1213: 1, 5724: 1, 1800: 1, 2737: 1, 4498: 1, 5665: 1, 7819: 1, 2309: 1, 2815: 1, 3633: 1, 2340: 1, 5519: 1, 2692: 1, 3651: 1, 1885: 1, 3738: 1, 3135: 1, 1926: 1, 3690: 1, 2322: 1, 974: 1, 3325: 1, 269: 1, 4304: 1, 964: 1, 886: 1, 2277: 1, 2831: 1, 710: 1, 2424: 1, 4131: 1, 3940: 1, 3423: 1, 5389: 1, 4691: 1, 1250: 1, 1749: 1, 3234: 1, 708: 1, 6184: 1, 1735: 1, 801: 1, 5626: 1, 4676: 1, 2278: 1, 5423: 1, 4819: 1, 1940: 1, 3531: 1, 4904: 1, 4744: 1, 2025: 1, 6846: 1, 3213: 1, 2802: 1, 1115: 1, 692: 1, 1918: 1, 1730: 1, 846: 1, 1631: 1, 3187: 1, 2285: 1, 3490: 1, 1620: 1, 2798: 1, 7107: 1, 4544: 1, 880: 1, 2562: 1, 1999: 1, 6454: 1, 1284: 1, 5462: 1, 7169: 1, 2691: 1, 1374: 1, 3904: 1, 737: 1, 860: 1, 8638: 1, 6380: 1, 4875: 1, 5350: 1, 702: 1, 598: 1, 8030: 1, 949: 1, 634: 1, 894: 1, 494: 1, 4213: 1, 4262: 1, 3829: 1, 7523: 1, 1603: 1, 3508: 1, 5056: 1, 1332: 1, 8185: 1, 2390: 1, 2381: 1, 6236: 1, 5041: 1, 1473: 1, 1555: 1, 4042: 1, 2198: 1, 8277: 1, 12624: 1, 1556: 1, 6569: 1, 7892: 1, 8979: 1, 1673: 1, 2514: 1, 1261: 1, 7286: 1, 3482: 1, 1258: 1, 6490: 1, 2066: 1, 3060: 1, 5701: 1, 4264: 1, 5796: 1, 2400: 1, 1263: 1, 6990: 1, 3955: 1, 4593: 1, 1465: 1, 2983: 1, 2030: 1, 1934: 1, 3672: 1, 1256: 1, 1560: 1, 4094: 1, 6739: 1, 7862: 1, 4796: 1, 5011: 1, 5114: 1, 1723: 1, 2272: 1, 2455: 1, 6819: 1, 5175: 1, 2905: 1, 1317: 1, 6203: 1, 3329: 1, 2620: 1, 4733: 1, 3195: 1, 736: 1, 1224: 1, 1084: 1, 1497: 1, 10076: 1, 4301: 1, 2891: 1, 8774: 1, 4893: 1, 1951: 1, 4699: 1, 2336: 1, 5813: 1, 5906: 1, 983: 1, 4971: 1, 3803: 1, 2537: 1, 3038: 1, 2679: 1, 5575: 1, 2105: 1, 5193: 1, 3735: 1, 610: 1, 4541: 1, 3585: 1, 3308: 1, 3599: 1, 2496: 1, 6527: 1, 3941: 1, 2574: 1, 2581: 1, 3794: 1, 2495: 1, 5608: 1, 2175: 1, 5726: 1, 2428: 1, 4244: 1, 4724: 1, 2395: 1, 1459: 1, 1186: 1, 699: 1, 4667: 1, 1596: 1, 1509: 1, 745: 1, 3363: 1, 2242: 1, 7140: 1, 1531: 1, 3788: 1, 1112: 1, 6816: 1, 3821: 1, 1038: 1, 4020: 1, 4729: 1, 10093: 1, 5698: 1, 3489: 1, 3871: 1, 1741: 1, 4092: 1, 2752: 1, 6810: 1, 3846: 1, 5071: 1, 3560: 1, 1297: 1, 5025: 1, 1960: 1, 1713: 1, 10118: 1, 5668: 1, 3341: 1, 1453: 1, 4905: 1, 1087: 1, 2346: 1, 1025: 1, 1589: 1, 6563: 1, 3262: 1, 1863: 1, 2217: 1, 3879: 1, 3719: 1, 8969: 1, 2609: 1, 4933: 1, 2734: 1, 5951: 1, 1018: 1, 2484: 1, 3170: 1, 742: 1, 6031: 1, 5277: 1, 5489: 1, 1891: 1, 5449: 1, 2705: 1, 2687: 1, 1012: 1, 4975: 1, 1244: 1, 6809: 1, 1277: 1, 10013: 1, 694: 1, 2925: 1, 1580: 1, 3963: 1, 3389: 1, 1168: 1, 4172: 1, 1879: 1, 3962: 1, 1501: 1, 3650: 1, 3231: 1, 5037: 1, 5102: 1, 8776: 1, 4234: 1, 2919: 1, 1864: 1, 1471: 1, 3669: 1, 3020: 1, 2184: 1, 3422: 1, 3432: 1, 2345: 1, 1324: 1, 1023: 1, 1323: 1, 1608: 1, 5118: 1, 3758: 1, 3162: 1, 3710: 1, 2894: 1, 3862: 1, 7017: 1, 2928: 1, 2286: 1, 5881: 1, 3261: 1, 6101: 1, 412: 1, 4336: 1, 5755: 1, 3035: 1, 1343: 1, 1618: 1, 1282: 1, 3591: 1, 6641: 1, 2327: 1, 1551: 1, 1291: 1, 851: 1, 4623: 1, 1541: 1, 4622: 1, 2702: 1, 2050: 1, 1657: 1, 943: 1, 1167: 1, 1200: 1, 4576: 1, 3767: 1, 1318: 1, 2009: 1, 1159: 1, 2480: 1, 1058: 1, 1817: 1, 2426: 1, 4364: 1, 3101: 1, 4170: 1, 1986: 1, 6448: 1, 3406: 1, 688: 1, 7549: 1, 8400: 1, 2968: 1, 5595: 1, 3284: 1, 3238: 1, 1388: 1, 5948: 1, 8588: 1, 7858: 1, 2732: 1, 1014: 1, 1630: 1, 4325: 1, 2267: 1, 4514: 1, 3010: 1, 5484: 1, 2359: 1, 5808: 1, 2481: 1, 5330: 1, 1368: 1, 3495: 1, 1642: 1, 1546: 1, 810: 1, 2781: 1, 6219: 1, 2392: 1, 2061: 1, 2578: 1, 767: 1, 7273: 1, 6760: 1, 3853: 1, 2236: 1, 5639: 1, 3691: 1, 2351: 1, 3874: 1, 6529: 1, 2279: 1, 3589: 1, 4270: 1, 1613: 1, 5612: 1, 2898: 1, 3642: 1, 3781: 1, 3435: 1, 516: 1, 8067: 1, 5937: 1, 1914: 1, 9109: 1, 4740: 1, 1511: 1, 411: 1, 1294: 1, 6059: 1, 2410: 1, 2183: 1, 6657: 1, 3384: 1, 3364: 1, 1537: 1, 4061: 1, 4159: 1, 1927: 1, 4902: 1, 3467: 1, 3685: 1, 1001: 1, 3734: 1, 1528: 1, 4551: 1, 2073: 1, 9149: 1, 3647: 1, 3476: 1, 4867: 1, 6568: 1, 6845: 1, 6122: 1, 1042: 1, 893: 1, 1353: 1, 1667: 1, 5414: 1, 5284: 1, 6074: 1, 1704: 1, 6391: 1, 1206: 1, 7621: 1, 5646: 1, 5263: 1, 3349: 1, 6032: 1, 1265: 1, 2300: 1, 589: 1, 5127: 1, 2110: 1, 2892: 1, 2001: 1, 984: 1, 5136: 1, 500: 1, 5103: 1, 5054: 1, 1938: 1, 7011: 1, 1570: 1, 2299: 1, 528: 1, 1823: 1, 2095: 1, 2604: 1, 2452: 1, 3070: 1, 5185: 1, 2196: 1, 1611: 1, 850: 1, 3548: 1, 3356: 1, 8237: 1, 3117: 1, 4295: 1, 2062: 1, 2949: 1, 3930: 1, 3845: 1, 5002: 1, 1588: 1, 2106: 1, 2100: 1, 2641: 1, 9055: 1, 3755: 1, 2849: 1, 1977: 1, 2871: 1, 859: 1, 4222: 1, 3057: 1, 4800: 1, 3227: 1, 2296: 1, 4680: 1, 512: 1, 5368: 1, 942: 1, 881: 1, 1220: 1, 4580: 1, 5818: 1, 1812: 1, 2137: 1, 3835: 1, 1559: 1, 4199: 1, 5667: 1, 2569: 1, 4546: 1, 2605: 1, 1516: 1, 5635: 1, 4296: 1, 671: 1, 911: 1, 1660: 1, 1941: 1, 7361: 1, 6396: 1, 4435: 1, 6339: 1, 499: 1, 4946: 1, 837: 1, 3138: 1, 4003: 1, 2072: 1, 776: 1, 5082: 1, 5358: 1, 5407: 1, 4387: 1, 1799: 1, 9919: 1, 7181: 1, 10027: 1, 486: 1, 1218: 1, 5909: 1, 2099: 1, 2228: 1, 4056: 1, 1274: 1, 5522: 1, 5259: 1, 6948: 1, 1299: 1, 2022: 1, 1054: 1, 1867: 1, 4210: 1, 1752: 1, 6934: 1, 2930: 1, 2146: 1, 2248: 1, 4477: 1, 5455: 1, 7919: 1, 2576: 1, 4626: 1, 2706: 1, 1826: 1, 3984: 1, 1466: 1, 570: 1, 1429: 1, 1046: 1, 4767: 1, 2429: 1, 10225: 1, 296: 1, 399: 1, 10223: 1, 10045: 1, 10036: 1, 652: 1, 658: 1, 986: 1, 933: 1, 5541: 1, 4552: 1, 3228: 1, 4624: 1, 4339: 1, 2645: 1, 4431: 1, 5052: 1, 1361: 1, 515: 1, 5168: 1, 1108: 1, 847: 1, 4976: 1, 574: 1, 4375: 1, 1731: 1, 772: 1, 4343: 1, 2344: 1, 345: 1, 4369: 1, 366: 1, 3347: 1, 364: 1, 2120: 1, 4151: 1, 1031: 1, 1346: 1, 592: 1, 6450: 1, 965: 1, 992: 1, 1721: 1, 685: 1, 490: 1, 1309: 1, 1105: 1, 3668: 1, 948: 1, 651: 1, 875: 1, 5922: 1, 719: 1, 666: 1, 879: 1, 636: 1, 607: 1, 283: 1, 1566: 1, 611: 1, 3041: 1, 729: 1, 2651: 1, 2940: 1, 5669: 1, 2777: 1, 261: 1, 5134: 1, 866: 1, 271: 1, 5162: 1, 3328: 1, 833: 1, 6076: 1, 2617: 1, 7015: 1, 2669: 1, 683: 1, 5271: 1, 2032: 1, 2534: 1, 760: 1, 2809: 1, 2713: 1, 324: 1, 3189: 1, 1021: 1, 5105: 1, 885: 1, 633: 1, 10394: 1, 4726: 1, 264: 1, 766: 1, 958: 1, 4374: 1, 560: 1, 4353: 1, 1072: 1, 2901: 1, 1648: 1, 6797: 1, 6319: 1, 5445: 1, 808: 1, 2825: 1, 2730: 1, 2626: 1, 897: 1, 2408: 1, 288: 1, 3279: 1, 2222: 1, 892: 1, 297: 1, 2946: 1, 2276: 1, 3327: 1, 4326: 1, 1942: 1, 2979: 1, 604: 1, 10375: 1, 307: 1, 5386: 1, 5930: 1, 852: 1, 5961: 1, 843: 1, 907: 1, 5875: 1, 4813: 1, 927: 1, 4515: 1, 4585: 1, 723: 1, 669: 1, 6179: 1, 4795: 1, 7000: 1, 763: 1, 6491: 1, 1569: 1, 817: 1, 53069: 1, 19913: 1, 7511: 1, 6038: 1, 14735: 1, 323: 1, 8568: 1, 11059: 1, 28750: 1, 3133: 1, 25661: 1, 4721: 1, 2201: 1, 787: 1, 7024: 1, 3838: 1, 3122: 1, 4777: 1, 1310: 1, 4197: 1, 10368: 1, 21657: 1, 32465: 1, 12267: 1, 72449: 1, 11561: 1, 2837: 1, 6864: 1, 5627: 1, 8518: 1, 3623: 1, 58688: 1, 5049: 1, 4888: 1, 22354: 1, 6042: 1, 49080: 1, 19817: 1, 33106: 1, 4147: 1, 7735: 1, 27685: 1, 9215: 1, 5304: 1, 54776: 1, 3141: 1, 30886: 1, 10179: 1, 5165: 1, 62189: 1, 12296: 1, 6523: 1, 49745: 1, 327: 1, 24464: 1, 584: 1, 4158: 1, 10384: 1, 37225: 1, 14398: 1, 16428: 1, 19103: 1, 18466: 1, 22681: 1, 7221: 1, 20490: 1, 256: 1, 55516: 1, 25227: 1, 5589: 1, 10668: 1, 16961: 1, 2661: 1, 8126: 1, 6053: 1, 6270: 1, 2122: 1, 5432: 1, 1289: 1, 5384: 1, 648: 1, 8726: 1, 10337: 1, 311: 1, 1632: 1, 1138: 1, 3175: 1, 931: 1, 8508: 1, 13252: 1, 654: 1, 15077: 1, 10200: 1, 16302: 1, 4793: 1, 17147: 1, 7356: 1, 26240: 1, 2407: 1, 6650: 1, 2119: 1, 5647: 1, 8266: 1, 3108: 1, 5053: 1, 1117: 1, 6013: 1, 7199: 1, 14953: 1, 4103: 1, 1077: 1, 3419: 1, 873: 1, 10489: 1, 11221: 1, 12143: 1, 5451: 1, 3436: 1, 6993: 1, 1233: 1, 13180: 1, 1356: 1, 2338: 1, 1728: 1, 1796: 1, 10506: 1, 10327: 1, 8420: 1, 3701: 1, 6336: 1, 1355: 1, 5461: 1, 2280: 1, 1981: 1, 2457: 1, 6942: 1, 638: 1, 1358: 1, 1377: 1, 1267: 1, 769: 1, 1130: 1, 6086: 1, 16298: 1, 16654: 1, 3410: 1, 34653: 1, 20001: 1, 7299: 1, 22751: 1, 8092: 1, 2423: 1, 2589: 1, 2739: 1, 9003: 1, 3276: 1, 10833: 1, 9699: 1, 1249: 1, 2339: 1, 1650: 1, 1729: 1, 3634: 1, 783: 1, 16697: 1, 2984: 1, 2335: 1, 1380: 1, 758: 1, 1205: 1, 2523: 1, 10048: 1, 10183: 1, 53646: 1, 21538: 1, 3408: 1, 1234: 1, 2460: 1, 7465: 1, 9316: 1, 2126: 1, 764: 1, 4856: 1, 1128: 1, 3928: 1, 2796: 1, 363: 1, 26082: 1, 43188: 1, 20182: 1, 30333: 1, 77793: 1, 383: 1, 5119: 1, 10504: 1, 631: 1, 51624: 1, 8771: 1, 21311: 1, 9183: 1, 8928: 1, 20513: 1, 35735: 1, 19578: 1, 20330: 1, 3792: 1, 16010: 1, 12700: 1, 646: 1, 46551: 1, 10022: 1, 49814: 1, 10207: 1, 19603: 1, 21909: 1, 9614: 1, 25359: 1, 248: 1, 13825: 1, 14197: 1, 276: 1, 22547: 1, 8083: 1, 2319: 1, 9442: 1, 6493: 1, 3938: 1, 247: 1, 11004: 1, 3388: 1, 7033: 1, 19282: 1, 9263: 1, 673: 1, 2405: 1, 299: 1, 1121: 1, 3843: 1, 5958: 1, 856: 1, 5411: 1, 1225: 1, 4555: 1, 6008: 1, 5434: 1, 4292: 1, 4022: 1, 3513: 1, 4454: 1, 524: 1, 1315: 1, 1164: 1, 10037: 1, 812: 1, 913: 1, 10047: 1, 932: 1, 10029: 1, 624: 1, 862: 1, 590: 1, 735: 1, 791: 1, 10032: 1, 301: 1, 10054: 1, 320: 1, 10051: 1, 331: 1, 1398: 1, 1722: 1, 3139: 1, 10067: 1, 10172: 1, 1890: 1, 3545: 1, 1860: 1, 2143: 1, 3475: 1, 3959: 1, 2085: 1, 10023: 1, 747: 1, 820: 1, 577: 1, 287: 1, 387: 1, 809: 1, 811: 1, 10313: 1, 1100: 1, 718: 1, 511: 1, 341: 1, 882: 1, 751: 1, 661: 1, 995: 1, 961: 1, 705: 1, 1095: 1, 608: 1, 10371: 1, 2516: 1, 962: 1, 703: 1, 1093: 1, 926: 1, 1035: 1, 351: 1, 1141: 1, 937: 1, 1604: 1, 609: 1, 1215: 1, 5450: 1, 1510: 1, 3568: 1, 5007: 1, 5559: 1, 5693: 1, 3881: 1, 5342: 1, 731: 1, 1952: 1, 3699: 1, 834: 1, 828: 1, 1842: 1, 803: 1, 5242: 1, 1437: 1, 10043: 1, 2342: 1, 2164: 1, 1489: 1, 2962: 1, 2507: 1, 869: 1, 709: 1, 272: 1, 2508: 1, 10373: 1, 2491: 1, 941: 1, 2971: 1, 2374: 1, 749: 1, 1702: 1, 332: 1, 3400: 1, 644: 1, 10380: 1, 976: 1, 844: 1, 1953: 1, 2049: 1, 1119: 1, 2613: 1, 889: 1, 1961: 1, 3073: 1, 755: 1, 930: 1, 4891: 1, 3283: 1, 935: 1, 2041: 1, 900: 1, 1949: 1, 591: 1, 4225: 1, 756: 1, 924: 1, 1833: 1, 2904: 1, 690: 1, 975: 1, 2596: 1, 20185: 1, 9941: 1, 5077: 1, 91799: 1, 13789: 1, 3632: 1, 5858: 1, 33827: 1, 788: 1, 739: 1, 858: 1, 5513: 1, 744: 1, 282: 1, 2649: 1, 6234: 1, 285: 1, 2536: 1, 3078: 1, 10300: 1, 4571: 1, 1366: 1, 1073: 1, 373: 1, 826: 1, 4101: 1, 5473: 1, 10042: 1, 993: 1})\n"
     ]
    }
   ],
   "source": [
    "timestamp = list(df['timestamp'])\n",
    "\n",
    "from datetime import datetime   \n",
    "res = []   \n",
    "diff = [] \n",
    "\n",
    "\n",
    "p1 = 0\n",
    "p2 = 1\n",
    "while p2 < len(timestamp)-1:\n",
    "    diff.append((timestamp[p2] - timestamp[p1]))\n",
    "    p1 += 1\n",
    "    p2 += 1\n",
    "#diff=np.array(diff)\n",
    "zeros = len(timestamp) - len(diff)\n",
    "for i in range(zeros):\n",
    "    diff.append(0)\n",
    "\n",
    "\n",
    "df['difference'] = diff\n",
    "print(df)\n",
    "print(len(timestamp))\n",
    "print(len(diff))\n",
    "count= coll.Counter(diff)\n",
    "print(count)\n",
    "\n",
    "\n",
    "\n",
    "\n",
    "\n",
    " "
   ]
  },
  {
   "cell_type": "code",
   "execution_count": 70,
   "metadata": {},
   "outputs": [
    {
     "name": "stdout",
     "output_type": "stream",
     "text": [
      "870326\n"
     ]
    }
   ],
   "source": [
    "print(len(timestamp))"
   ]
  },
  {
   "cell_type": "code",
   "execution_count": 41,
   "metadata": {},
   "outputs": [
    {
     "name": "stdout",
     "output_type": "stream",
     "text": [
      "0\n",
      "91799\n"
     ]
    }
   ],
   "source": [
    "print(min(diff))\n",
    "print(max(diff))\n"
   ]
  },
  {
   "cell_type": "code",
   "execution_count": 79,
   "metadata": {},
   "outputs": [
    {
     "data": {
      "image/png": "[encoded data removed]",
      "text/plain": [
       "<Figure size 432x288 with 1 Axes>"
      ]
     },
     "metadata": {
      "needs_background": "light"
     },
     "output_type": "display_data"
    }
   ],
   "source": [
    "import numpy as np \n",
    "import matplotlib.pyplot as plt\n",
    "import scipy.stats as stats\n",
    "%matplotlib inline\n",
    "\n",
    "#values= np.random.normal(63,2,10000)\n",
    "plt.hist(diff,bins=10, range=[0 , 80])\n",
    "plt.show()\n",
    "\n"
   ]
  },
  {
   "cell_type": "code",
   "execution_count": 124,
   "metadata": {},
   "outputs": [
    {
     "name": "stdout",
     "output_type": "stream",
     "text": [
      "870326\n",
      "870326\n",
      "2\n",
      "        level_0      timestamp  accuracy         x         y          z  \\\n",
      "0             0  1583055213400         3  1.547183 -0.263119  -9.609081   \n",
      "1             1  1583055213481         3  1.542035 -0.272696  -9.611715   \n",
      "2             2  1583055213673         3  1.548260 -0.265513  -9.610997   \n",
      "3             3  1583055213865         3  1.540838 -0.274132  -9.613989   \n",
      "4             4  1583055214060         3  1.544908 -0.270421  -9.608005   \n",
      "...         ...            ...       ...       ...       ...        ...   \n",
      "870321   870321  1583109217264         3 -4.217807 -0.310642  10.707001   \n",
      "870322   870322  1583109217284         3 -4.143590  0.153813  10.623207   \n",
      "870323   870323  1583109217304         3 -3.595342  0.254365   9.822382   \n",
      "870324   870324  1583109217323         3 -3.114128  0.697273   8.992826   \n",
      "870325   870325  1583109217342         3 -2.715510  1.171305   8.759401   \n",
      "\n",
      "        difference  result  outcome  threshold (210) outcome2  \n",
      "0               81       0      gap                1      gap  \n",
      "1              192       0      gap                1      gap  \n",
      "2              192       0      gap                1      gap  \n",
      "3              195       0      gap                1      gap  \n",
      "4              193       0      gap                1      gap  \n",
      "...            ...     ...      ...              ...      ...  \n",
      "870321          20       1  correct                1  correct  \n",
      "870322          20       1  correct                1  correct  \n",
      "870323          19       1  correct                1  correct  \n",
      "870324           0       1  correct                1  correct  \n",
      "870325           0       1  correct                1  correct  \n",
      "\n",
      "[870326 rows x 11 columns]\n"
     ]
    }
   ],
   "source": [
    "res = []    \n",
    "res2 = []\n",
    "\n",
    "for i in diff:\n",
    "        if i < 70:\n",
    "            res.append(1)\n",
    "        else:\n",
    "            res.append(0)\n",
    "    \n",
    "for i in diff:\n",
    "        if i < 210:\n",
    "            res2.append(1)\n",
    "        else : \n",
    "            res2.append(0)\n",
    "        \n",
    "print(len(timestamp))\n",
    "print(len(res))\n",
    "print(zeros)\n",
    "\n",
    "   \n",
    "df['result'] = res\n",
    "df['threshold (210)'] = res2\n",
    "print(df)\n",
    "        \n",
    "  \n",
    " "
   ]
  },
  {
   "cell_type": "code",
   "execution_count": 86,
   "metadata": {},
   "outputs": [
    {
     "data": {
      "text/plain": [
       "(499589, 7)"
      ]
     },
     "execution_count": 86,
     "metadata": {},
     "output_type": "execute_result"
    }
   ],
   "source": [
    "df[df['result']==0].shape"
   ]
  },
  {
   "cell_type": "code",
   "execution_count": 125,
   "metadata": {},
   "outputs": [],
   "source": [
    "result = list(df['result'])\n",
    "result2 = list(df['threshold (210)'])\n",
    "outcome1 = []\n",
    "outcome2 = []\n",
    "for i in result:\n",
    "    if i==1:\n",
    "        outcome1.append('correct')\n",
    "    else:\n",
    "        outcome1.append('gap')\n",
    "\n",
    "for i in result2:\n",
    "    if i==1:\n",
    "        outcome2.append('correct')\n",
    "    else:\n",
    "        outcome2.append('gap')        \n",
    "df['outcome']=outcome1\n",
    "df['outcome2']=outcome2\n",
    "#df.head(10)\n",
    "\n",
    "df.reset_index(inplace=True)\n",
    "df.drop(['index'], axis=1, inplace=True)\n"
   ]
  },
  {
   "cell_type": "code",
   "execution_count": 126,
   "metadata": {},
   "outputs": [],
   "source": [
    "df.to_csv(r'C:\\Users\\AEJAZ\\Desktop\\CSV\\accel_new1.csv')\n",
    " "
   ]
  },
  {
   "cell_type": "raw",
   "metadata": {},
   "source": []
  },
  {
   "cell_type": "raw",
   "metadata": {},
   "source": []
  },
  {
   "cell_type": "code",
   "execution_count": null,
   "metadata": {},
   "outputs": [],
   "source": []
  }
 ],
 "metadata": {
  "kernelspec": {
   "display_name": "Python 3",
   "language": "python",
   "name": "python3"
  },
  "language_info": {
   "codemirror_mode": {
    "name": "ipython",
    "version": 3
   },
   "file_extension": ".py",
   "mimetype": "text/x-python",
   "name": "python",
   "nbconvert_exporter": "python",
   "pygments_lexer": "ipython3",
   "version": "3.7.3"
  }
 },
 "nbformat": 4,
 "nbformat_minor": 4
}
